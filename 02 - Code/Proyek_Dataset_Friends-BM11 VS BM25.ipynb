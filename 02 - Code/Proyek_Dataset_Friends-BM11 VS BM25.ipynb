{
 "cells": [
  {
   "cell_type": "markdown",
   "metadata": {
    "id": "7AclZYaU7PLU"
   },
   "source": [
    "### Proyek_Dataset_Friends-BM11 VS BM25"
   ]
  },
  {
   "cell_type": "code",
   "execution_count": 1,
   "metadata": {
    "colab": {
     "base_uri": "https://localhost:8080/"
    },
    "id": "zYd9Odftslr_",
    "outputId": "636df374-afad-4436-b8ac-1004acd56e59"
   },
   "outputs": [
    {
     "name": "stdout",
     "output_type": "stream",
     "text": [
      "[nltk_data] Downloading package punkt to\n",
      "[nltk_data]     C:\\Users\\ASUS\\AppData\\Roaming\\nltk_data...\n",
      "[nltk_data]   Package punkt is already up-to-date!\n"
     ]
    }
   ],
   "source": [
    "import pandas as pd\n",
    "import re\n",
    "import nltk\n",
    "nltk.download('punkt')\n",
    "\n",
    "from nltk.tokenize import word_tokenize\n",
    "from nltk.corpus import stopwords\n",
    "from nltk.stem.porter import PorterStemmer"
   ]
  },
  {
   "cell_type": "code",
   "execution_count": 2,
   "metadata": {
    "colab": {
     "base_uri": "https://localhost:8080/",
     "height": 206
    },
    "id": "yvX8ovzkhhGN",
    "outputId": "317b74bf-b27f-4964-dde0-10397eb3467d",
    "scrolled": true
   },
   "outputs": [
    {
     "data": {
      "text/html": [
       "<div>\n",
       "<style scoped>\n",
       "    .dataframe tbody tr th:only-of-type {\n",
       "        vertical-align: middle;\n",
       "    }\n",
       "\n",
       "    .dataframe tbody tr th {\n",
       "        vertical-align: top;\n",
       "    }\n",
       "\n",
       "    .dataframe thead th {\n",
       "        text-align: right;\n",
       "    }\n",
       "</style>\n",
       "<table border=\"1\" class=\"dataframe\">\n",
       "  <thead>\n",
       "    <tr style=\"text-align: right;\">\n",
       "      <th></th>\n",
       "      <th>episode</th>\n",
       "      <th>Dialogue</th>\n",
       "    </tr>\n",
       "  </thead>\n",
       "  <tbody>\n",
       "    <tr>\n",
       "      <th>0</th>\n",
       "      <td>1x01 - The One Where Monica Gets A Roommate.7...</td>\n",
       "      <td>there s nothing to tell it s just some guy i w...</td>\n",
       "    </tr>\n",
       "    <tr>\n",
       "      <th>1</th>\n",
       "      <td>1x02 - The One With The Sonogram At The End.</td>\n",
       "      <td>you guys don t understand for us kissing is as...</td>\n",
       "    </tr>\n",
       "    <tr>\n",
       "      <th>2</th>\n",
       "      <td>1x03 - The One With The Thumb.720p HDTV.TvR.</td>\n",
       "      <td>hi guys hey pheebs oh oh how d it go um not so...</td>\n",
       "    </tr>\n",
       "    <tr>\n",
       "      <th>3</th>\n",
       "      <td>1x04 - The One With George Stephanopoulos.720...</td>\n",
       "      <td>all right phoebe if i were omnipotent for a da...</td>\n",
       "    </tr>\n",
       "    <tr>\n",
       "      <th>4</th>\n",
       "      <td>1x05 - The One With The East German Laundry D...</td>\n",
       "      <td>let it go it s not a big deal not a big deal i...</td>\n",
       "    </tr>\n",
       "  </tbody>\n",
       "</table>\n",
       "</div>"
      ],
      "text/plain": [
       "                                             episode  \\\n",
       "0   1x01 - The One Where Monica Gets A Roommate.7...   \n",
       "1       1x02 - The One With The Sonogram At The End.   \n",
       "2       1x03 - The One With The Thumb.720p HDTV.TvR.   \n",
       "3   1x04 - The One With George Stephanopoulos.720...   \n",
       "4   1x05 - The One With The East German Laundry D...   \n",
       "\n",
       "                                            Dialogue  \n",
       "0  there s nothing to tell it s just some guy i w...  \n",
       "1  you guys don t understand for us kissing is as...  \n",
       "2  hi guys hey pheebs oh oh how d it go um not so...  \n",
       "3  all right phoebe if i were omnipotent for a da...  \n",
       "4  let it go it s not a big deal not a big deal i...  "
      ]
     },
     "execution_count": 2,
     "metadata": {},
     "output_type": "execute_result"
    }
   ],
   "source": [
    "df = pd.read_csv(\"Friends dialogues.csv\")\n",
    "\n",
    "# melihat dataset\n",
    "df.head()"
   ]
  },
  {
   "cell_type": "code",
   "execution_count": 3,
   "metadata": {},
   "outputs": [
    {
     "name": "stdout",
     "output_type": "stream",
     "text": [
      "Row count is: 229\n"
     ]
    }
   ],
   "source": [
    "print('Row count is:', len(df))"
   ]
  },
  {
   "cell_type": "code",
   "execution_count": 4,
   "metadata": {
    "id": "JgH0q5vOmnqs"
   },
   "outputs": [],
   "source": [
    "new_df = df.drop(\"episode\", axis=1, inplace=True)"
   ]
  },
  {
   "cell_type": "code",
   "execution_count": 5,
   "metadata": {
    "colab": {
     "base_uri": "https://localhost:8080/",
     "height": 206
    },
    "id": "GTuwZRkFmz-Y",
    "outputId": "4a331bf4-fc27-4f59-e0df-7caa4ffd39b2"
   },
   "outputs": [
    {
     "data": {
      "text/html": [
       "<div>\n",
       "<style scoped>\n",
       "    .dataframe tbody tr th:only-of-type {\n",
       "        vertical-align: middle;\n",
       "    }\n",
       "\n",
       "    .dataframe tbody tr th {\n",
       "        vertical-align: top;\n",
       "    }\n",
       "\n",
       "    .dataframe thead th {\n",
       "        text-align: right;\n",
       "    }\n",
       "</style>\n",
       "<table border=\"1\" class=\"dataframe\">\n",
       "  <thead>\n",
       "    <tr style=\"text-align: right;\">\n",
       "      <th></th>\n",
       "      <th>Dialogue</th>\n",
       "    </tr>\n",
       "  </thead>\n",
       "  <tbody>\n",
       "    <tr>\n",
       "      <th>0</th>\n",
       "      <td>there s nothing to tell it s just some guy i w...</td>\n",
       "    </tr>\n",
       "    <tr>\n",
       "      <th>1</th>\n",
       "      <td>you guys don t understand for us kissing is as...</td>\n",
       "    </tr>\n",
       "    <tr>\n",
       "      <th>2</th>\n",
       "      <td>hi guys hey pheebs oh oh how d it go um not so...</td>\n",
       "    </tr>\n",
       "    <tr>\n",
       "      <th>3</th>\n",
       "      <td>all right phoebe if i were omnipotent for a da...</td>\n",
       "    </tr>\n",
       "    <tr>\n",
       "      <th>4</th>\n",
       "      <td>let it go it s not a big deal not a big deal i...</td>\n",
       "    </tr>\n",
       "  </tbody>\n",
       "</table>\n",
       "</div>"
      ],
      "text/plain": [
       "                                            Dialogue\n",
       "0  there s nothing to tell it s just some guy i w...\n",
       "1  you guys don t understand for us kissing is as...\n",
       "2  hi guys hey pheebs oh oh how d it go um not so...\n",
       "3  all right phoebe if i were omnipotent for a da...\n",
       "4  let it go it s not a big deal not a big deal i..."
      ]
     },
     "execution_count": 5,
     "metadata": {},
     "output_type": "execute_result"
    }
   ],
   "source": [
    "df.head()"
   ]
  },
  {
   "cell_type": "code",
   "execution_count": 6,
   "metadata": {
    "colab": {
     "base_uri": "https://localhost:8080/"
    },
    "id": "bK29o1L_m3aO",
    "outputId": "cd85cf2e-550c-4edb-89ce-a6dd0b113491"
   },
   "outputs": [
    {
     "data": {
      "text/plain": [
       "0"
      ]
     },
     "execution_count": 6,
     "metadata": {},
     "output_type": "execute_result"
    }
   ],
   "source": [
    "df['Dialogue'].isnull().sum()"
   ]
  },
  {
   "cell_type": "code",
   "execution_count": 7,
   "metadata": {
    "id": "OPx39EUSnpTY"
   },
   "outputs": [],
   "source": [
    "new_df_without_null=df.dropna()"
   ]
  },
  {
   "cell_type": "code",
   "execution_count": 8,
   "metadata": {
    "colab": {
     "base_uri": "https://localhost:8080/"
    },
    "id": "iFoozKMGoj0Q",
    "outputId": "32b0d7f4-1695-4f86-f28b-13890c6a9c2d"
   },
   "outputs": [
    {
     "data": {
      "text/plain": [
       "0"
      ]
     },
     "execution_count": 8,
     "metadata": {},
     "output_type": "execute_result"
    }
   ],
   "source": [
    "new_df_without_null['Dialogue'].isnull().sum()"
   ]
  },
  {
   "cell_type": "code",
   "execution_count": 9,
   "metadata": {
    "colab": {
     "base_uri": "https://localhost:8080/",
     "height": 206
    },
    "id": "TTKY8zTNt4bQ",
    "outputId": "3fbfc1ca-027a-4e8d-acab-c3441e0bff65"
   },
   "outputs": [
    {
     "data": {
      "text/html": [
       "<div>\n",
       "<style scoped>\n",
       "    .dataframe tbody tr th:only-of-type {\n",
       "        vertical-align: middle;\n",
       "    }\n",
       "\n",
       "    .dataframe tbody tr th {\n",
       "        vertical-align: top;\n",
       "    }\n",
       "\n",
       "    .dataframe thead th {\n",
       "        text-align: right;\n",
       "    }\n",
       "</style>\n",
       "<table border=\"1\" class=\"dataframe\">\n",
       "  <thead>\n",
       "    <tr style=\"text-align: right;\">\n",
       "      <th></th>\n",
       "      <th>Dialogue</th>\n",
       "    </tr>\n",
       "  </thead>\n",
       "  <tbody>\n",
       "    <tr>\n",
       "      <th>0</th>\n",
       "      <td>there s nothing to tell it s just some guy i w...</td>\n",
       "    </tr>\n",
       "    <tr>\n",
       "      <th>1</th>\n",
       "      <td>you guys don t understand for us kissing is as...</td>\n",
       "    </tr>\n",
       "    <tr>\n",
       "      <th>2</th>\n",
       "      <td>hi guys hey pheebs oh oh how d it go um not so...</td>\n",
       "    </tr>\n",
       "    <tr>\n",
       "      <th>3</th>\n",
       "      <td>all right phoebe if i were omnipotent for a da...</td>\n",
       "    </tr>\n",
       "    <tr>\n",
       "      <th>4</th>\n",
       "      <td>let it go it s not a big deal not a big deal i...</td>\n",
       "    </tr>\n",
       "  </tbody>\n",
       "</table>\n",
       "</div>"
      ],
      "text/plain": [
       "                                            Dialogue\n",
       "0  there s nothing to tell it s just some guy i w...\n",
       "1  you guys don t understand for us kissing is as...\n",
       "2  hi guys hey pheebs oh oh how d it go um not so...\n",
       "3  all right phoebe if i were omnipotent for a da...\n",
       "4  let it go it s not a big deal not a big deal i..."
      ]
     },
     "execution_count": 9,
     "metadata": {},
     "output_type": "execute_result"
    }
   ],
   "source": [
    "new_df_without_null.head()"
   ]
  },
  {
   "cell_type": "code",
   "execution_count": 10,
   "metadata": {
    "id": "q-SBxmsQx-sd"
   },
   "outputs": [],
   "source": [
    "def remove_number(text):\n",
    "    return  re.sub(r\"\\[0-9]+\", \"\", str(text))\n",
    " \n",
    "new_df_without_null['Dialogue'] = new_df_without_null['Dialogue'].apply(remove_number)"
   ]
  },
  {
   "cell_type": "code",
   "execution_count": 11,
   "metadata": {
    "id": "85mQRTAW75hM"
   },
   "outputs": [],
   "source": [
    "#remove whitespace leading & trailing\n",
    "def remove_whitespace_LT(text):\n",
    "    return text.strip()\n",
    "\n",
    "\n",
    "new_df_without_null['Dialogue'] =new_df_without_null['Dialogue'].apply(remove_whitespace_LT)\n",
    "\n",
    "#remove multiple whitespace into single whitespace\n",
    "def remove_whitespace_multiple(text):\n",
    "    return re.sub('\\s+',' ',text)\n",
    "\n",
    "\n",
    "new_df_without_null['Dialogue'] = new_df_without_null['Dialogue'].apply(remove_whitespace_multiple)\n",
    "\n",
    "# remove single char\n",
    "def remove_singl_char(text):\n",
    "    return re.sub(r\"\\b[a-zA-Z]\\b\", \"\", text)\n",
    "\n",
    "\n",
    "new_df_without_null['Dialogue'] = new_df_without_null['Dialogue'].apply(remove_singl_char)"
   ]
  },
  {
   "cell_type": "code",
   "execution_count": 12,
   "metadata": {
    "colab": {
     "base_uri": "https://localhost:8080/"
    },
    "id": "S-eRJCgnqUBP",
    "outputId": "c3eeb3f8-1940-4b83-a343-0cd17791c90f"
   },
   "outputs": [
    {
     "name": "stdout",
     "output_type": "stream",
     "text": [
      "['there', 'nothing', 'to', 'tell', 'it', 'just', 'some', 'guy', 'work', 'with', 'you', 're', 'going', 'out', 'with', 'the', 'guy', 'there', 'has', 'to', 'be', 'something', 'wrong', 'with', 'him', 'so', 'does', 'he', 'have', 'hump', 'and', 'hairpiece', 'wait', 'does', 'he', 'eat', 'chalk', '6', 'don', 'want', 'her', 'to', 'go', 'through', 'what', 'did', 'with', 'carl', '7', 'okay', 'everybody', 'relax', '8', 'this', 'is', 'not', 'even', 'date', '9', 'it', 'just', 'two', 'people', 'going', 'out', 'to', 'dinner', 'and', 'not', 'having', 'sex', '01', 'sounds', 'like', 'date', 'to', 'me', '01', 'in', 'high', 'school', 'in', 'the', 'cafeteria', '01', 'and', 'realize', 'totally', 'naked', '01', 've', 'had', 'that', 'dream', '01', 'then', 'look', 'down', 'and', 'realize', 'there', 'is', 'phone', '01', 'there', '01', 'instead', 'of', 'that', 'right', '01', 'never', 'had', 'that', 'one', '01', 'all', 'of', 'sudden', 'the', 'phone', 'starts', 'to', 'ring', '01', 'and', 'it', 'turns', 'out', 'it', 'my', 'mother', '01', 'which', 'is', 'very', 'very', 'weird', 'because', 'she', 'never', 'calls', 'me', '01', 'he', 'says', 'hello', 'want', 'to', 'kill', 'myself', '01', 'you', 'okay', '01', 'feel', 'like', 'someone', 'pulled', 'my', 'intestine', 'out', 'of', 'my', 'mouth', '01', 'and', 'tied', 'it', 'around', 'my', 'neck', 'cookie', '02', 'carol', 'moved', 'her', 'stuff', 'out', 'today', '02', 'let', 'me', 'get', 'you', 'some', 'coffee', 'thanks', '02', 'no', 'don', 'stop', 'cleansing', 'my', 'aura', '02', 'just', 'leave', 'my', 'aura', 'alone', 'okay', 'fine', 'be', 'murky', '02', 'll', 'be', 'fine', 'hope', 'she', 'll', 'be', 'happy', '02', 'no', 'you', 'don', '02', 'to', 'hell', 'with', 'her', 'she', 'left', 'me', '02', 'and', 'you', 'never', 'knew', 'she', 'was', 'lesbian', '02', 'why', 'does', 'everyone', 'keep', 'fixating', 'on', 'that', '02', 'she', 'didn', 'know', 'how', 'should', 'know', '02', 'sometimes', 'wish', 'was', 'lesbian', '02', 'did', 'say', 'that', 'out', 'loud', '02', 'look', 'you', 're', 'feeling', 'lot', 'of', 'pain', 'right', 'now', '02', 'you', 're', 'angry', 'you', 're', 'hurting', '03', 'can', 'tell', 'you', 'what', 'the', 'answer', 'is', '03', 'strip', 'joints', '03', 'see', 'but', 'don', 'want', 'to', 'be', 'single', 'okay', '03', 'just', 'want', 'to', 'be', 'married', 'again', '03', 'and', 'just', 'want', 'million', 'dollars', '03', 'rachel', '03', 'oh', 'god', 'monica', 'hi', 'thank', 'god', '03', 'went', 'to', 'your', 'building', 'and', 'this', 'guy', 'with', 'hammer', 'said', '03', 'that', 'you', 'might', 'be', 'here', 'and', 'you', 'are', '03', 'can', 'get', 'you', 'some', 'coffee', 'decaf', '03', 'everybody', 'this', 'is', 'rachel', 'another', 'lincoln', 'high', 'survivor', '03', 'this', 'is', 'everybody', 'chandler', 'and', 'phoebe', '03', 'and', 'joey', 'and', 'remember', 'my', 'brother', 'ross', '03', 'sure', '03', 'you', 'want', 'to', 'tell', 'us', 'now', 'or', 'are', 'we', 'waiting', 'for', 'four', 'wet', 'bridesmaids', '04', 'oh', 'god', 'well', 'it', 'started', 'about', 'halfhour', 'before', 'the', 'wedding', '04', 'was', 'in', 'this', 'room', 'with', 'all', 'the', 'presents', '04', 'this', 'really', 'gorgeous', 'limoges', 'gravy', 'boat', '04', 'when', 'all', 'of', 'sudden', 'realize', '04', 'sweet', 'low', '04', 'realized', '04', 'was', 'more', 'turned', 'on', 'by', 'this', 'gravy', 'boat', 'than', 'by', 'barry', '04', 'and', 'then', 'really', 'freaked', 'out', 'when', 'it', 'hit', 'me', '04', 'how', 'much', 'barry', 'looks', 'like', 'mr', 'potato', 'head', '04', 'always', 'knew', 'he', 'looked', 'familiar', 'but', '04', 'had', 'to', 'get', 'out', 'of', 'there', 'and', 'started', 'wondering', '04', 'why', 'am', 'doing', 'this', 'and', 'who', 'am', 'doing', 'this', 'for', '04', 'didn', 'know', 'where', 'to', 'go', 'and', 'know', 'you', 'and', 'have', 'drifted', 'apart', '04', 'but', 'you', 're', 'the', 'only', 'person', 'know', 'in', 'the', 'city', '04', 'who', 'wasn', 'asked', 'to', 'the', 'wedding', '04', 'was', 'kind', 'of', 'hoping', 'that', 'wouldn', 'be', 'an', 'issue', '05', 'guess', 'he', 'bought', 'her', 'the', 'pipe', 'organ', '05', 'and', 'she', 'really', 'not', 'happy', 'about', 'it', '05', 'daddy', 'just', 'can', 'marry', 'him', '05', 'sorry', '05', 'just', 'don', 'love', 'him', '05', 'well', 'it', 'matters', 'to', 'me', '05', 'she', 'should', 'not', 'be', 'wearing', 'those', 'pants', '05', 'say', 'push', 'her', 'down', 'the', 'stairs', '05', 'push', 'her', 'down', 'the', 'stairs', 'push', 'her', 'down', 'the', 'stairs', '05', 'come', 'on', 'daddy', 'listen', '05', 'all', 'my', 'life', 'everyone', 'always', 'told', 'me', 'you', 're', 'shoe', '05', 'you', 're', 'shoe', 'you', 're', 'shoe', 'you', 're', 'shoe', '05', 'stopped', 'and', 'said', 'what', 'if', 'don', 'wan', 'na', 'be', 'shoe', '05', 'what', 'if', 'want', 'to', 'be', 'purse', '05', 'or', 'hat', '05', 'don', 'want', 'you', 'to', 'buy', 'me', 'hat', '05', 'it', 'metaphor', 'daddy', '06', 'you', 'can', 'see', 'where', 'he', 'have', 'trouble', '06', 'look', 'daddy', 'it', 'my', 'life', '06', 'well', 'maybe', 'll', 'just', 'stay', 'here', 'with', 'monica', '06', 'guess', 'we', 've', 'established', 'she', 'staying', 'with', 'monica', '06', 'well', 'maybe', 'that', 'my', 'decision', '06', 'well', 'maybe', 'don', 'need', 'your', 'money', '06', 'wait', 'wait', 'said', 'maybe', '06', 'just', 'breathe', 'breathe', 'that', 'it', '06', 'just', 'try', 'to', 'think', 'of', 'nice', 'calm', 'things', '06', 'raindrops', 'on', 'roses', 'and', 'whiskers', 'on', 'kittens', '06', 'doorbells', 'and', 'sleigh', 'bells', 'and', 'something', 'with', 'mittens', '06', 'la', 'la', 'la', 'something', 'and', 'noodles', 'with', 'string', '06', 'these', 'are', 'all', 'better', 'now', '06', 'helped', '06', 'this', 'is', 'probably', 'for', 'the', 'best', 'you', 'know', '07', 'independence', 'taking', 'control', 'of', 'your', 'life', '07', 'if', 'you', 'need', 'anything', 'you', 'can', 'always', 'come', 'to', 'joey', '07', 'me', 'and', 'chandler', 'live', 'across', 'the', 'hall', 'and', 'he', 'away', 'lot', '07', 'joey', 'stop', 'hitting', 'on', 'her', 'it', 'her', 'wedding', 'day', '07', 'what', 'like', 'there', 'rule', 'or', 'something', '07', 'please', 'don', 'do', 'that', 'again', 'it', 'horrible', 'sound', '07', 'it', 'paul', '07', 'buzz', 'him', 'in', '07', 'who', 'paul', 'paul', 'the', 'wine', 'guy', '07', 'maybe', '07', 'your', 'not', 'real', 'date', 'is', 'with', 'paul', 'the', 'wine', 'guy', '07', 'he', 'finally', 'asked', 'you', 'out', '07', 'it', 'dear', 'diary', 'moment', '07', 'rach', 'can', 'cancel', '07', 'oh', 'god', 'please', 'no', 'go', 'll', 'be', 'fine', '07', 'ross', 'are', 'you', 'okay', 'do', 'you', 'want', 'me', 'to', 'stay', '07', 'that', 'be', 'good', '07', 'really', 'go', 'on', 'it', 'paul', 'the', 'wine', 'guy', '07', 'hi', 'come', 'in', 'paul', 'this', 'is', '07', 'everybody', 'everybody', 'this', 'is', 'paul', '08', 'the', 'wine', 'guy', 'didn', 'catch', 'your', 'name', 'paul', '08', 'change', 'sit', 'down', 'two', 'seconds', '08', 'just', 'pulled', 'out', 'four', 'eyelashes', 'that', 'can', 'be', 'good', '08', 'rachel', 'what', 'are', 'you', 'up', 'to', 'tonight', '08', 'was', 'supposed', 'to', 'be', 'headed', 'for', 'aruba', 'on', 'my', 'honeymoon', '08', 'so', 'nothing', '08', 'right', 'you', 're', 'not', 'even', 'getting', 'your', 'honeymoon', '08', 'although', 'aruba', 'this', 'time', 'of', 'year', 'talk', 'about', 'your', '08', 'big', 'lizards', '08', 'if', 'you', 'don', 'feel', 'like', 'being', 'alone', 'tonight', '08', 'joey', 'and', 'chandler', 'are', 'helping', 'me', 'with', 'my', 'furniture', '08', 'and', 'we', 're', 'very', 'excited', 'about', 'it', '08', 'thanks', 'but', 'just', 'gon', 'na', 'hang', 'out', 'here', '08', 'it', 'been', 'long', 'day', 'okay', 'sure', '08', 'pheebs', 'wan', 'na', 'help', '09', 'wish', 'could', 'but', 'don', 'want', 'to', '09', 'supposed', 'to', 'attach', 'brackety', 'thing', 'to', 'the', 'side', 'things', '09', 'using', 'bunch', 'of', 'these', 'little', 'worm', 'guys', '09', 'have', 'no', 'brackety', 'thing', 'see', 'no', 'worm', 'guys', 'whatsoever', '09', 'and', 'can', 'not', 'feel', 'my', 'legs', '09', 'which', 'goes', 'where', 'have', 'no', 'idea', '09', 'done', 'with', 'the', 'bookcase', 'all', 'finished', '09', 'this', 'was', 'carol', 'favorite', 'beer', '09', 'she', 'always', 'drank', 'it', 'out', 'of', 'the', 'can', 'should', 'have', 'known', '09', 'let', 'me', 'ask', 'you', 'question', '09', 'she', 'got', 'the', 'furniture', 'the', 'stereo', 'the', 'good', 'tv', '09', 'what', 'did', 'you', 'get', '09', 'you', 'guys', '09', 'you', 'got', 'screwed', 'oh', 'my', 'god', '09', 'oh', 'my', 'god', 'know', 'such', 'an', 'idiot', '10', 'should', 've', 'caught', 'on', 'when', 'she', 'went', 'to', 'the', 'dentist', 'four', 'and', 'five', 'times', 'week', '10', 'mean', 'how', 'clean', 'can', 'teeth', 'get', '10', 'my', 'brother', 'going', 'through', 'that', 'he', 'mess', '10', 'how', 'did', 'you', 'get', 'through', 'it', '10', 'he', 'might', 'try', 'accidentally', 'breaking', 'something', 'valuable', 'of', 'hers', '10', 'say', 'her', 'leg', '10', 'that', 'one', 'way', 'of', 'going', 'through', 'it', 'me', 'went', 'for', 'the', 'watch', '10', 'you', 'actually', 'broke', 'her', 'watch', '10', 'barry', 'sorry', 'am', 'so', 'sorry', '10', 'you', 'probably', 'think', 'it', 'about', 'making', 'love', 'with', 'your', 'socks', 'on', 'but', 'it', 'isn', '10', 'it', 'about', 'me', 'and', 'just', '10', 'machine', 'cut', 'me', 'off', 'again', 'anyway', '10', 'you', 'know', 'what', 'scary', 'what', 'if', 'there', 'is', 'only', 'one', 'woman', 'for', 'everybody', '10', 'mean', 'what', 'if', 'you', 'get', 'one', 'woman', 'and', 'that', 'it', '10', 'unfortunately', 'in', 'my', 'case', 'there', 'was', 'only', 'one', 'woman', 'for', 'her', '10', 'what', 'are', 'you', 'talking', 'about', 'one', 'woman', '11', 'that', 'like', 'saying', 'there', 'only', 'one', 'flavor', 'of', 'ice', 'cream', 'for', 'you', '11', 'let', 'me', 'tell', 'you', 'something', 'there', 'lots', 'of', 'flavors', 'out', 'there', '11', 'rocky', 'road', 'and', 'cookie', 'dough', 'and', 'bing', 'cherry', 'vanilla', '11', 'you', 'can', 'get', 'them', 'with', 'jimmies', 'or', 'nuts', 'or', 'whipped', 'cream', '11', 'this', 'is', 'the', 'best', 'thing', 'that', 'ever', 'happened', 'to', 'you', '11', 'you', 'got', 'married', 'you', 'were', 'like', 'what', 'eight', '11', 'welcome', 'back', 'to', 'the', 'world', 'grab', 'spoon', '11', 'honestly', 'don', 'know', 'if', 'hungry', 'or', 'horny', '11', 'then', 'stay', 'out', 'of', 'my', 'freezer', '11', 'ever', 'since', 'she', 'walked', 'out', 'on', 'me', '11', 'what', 'what', '11', 'you', 'wan', 'na', 'spell', 'it', 'out', 'with', 'noodles', '11', 'it', 'more', 'of', 'fifth', 'date', 'kind', 'of', 'revelation', '11', 'so', 'there', 'going', 'to', 'be', 'fifth', 'date', '11', 'isn', 'there', '11', 'yeah', 'yeah', 'think', 'there', 'is', '12', 'what', 'were', 'you', 'going', 'to', 'say', '12', 'ever', 'since', 'she', 'left', 'me', '12', 'haven', 'been', 'able', 'to', 'perform', '12', 'sexually', '12', 'oh', 'god', 'oh', 'god', '12', 'so', 'sorry', '12', 'being', 'spit', 'on', 'is', 'probably', 'not', 'what', 'you', 'need', 'right', 'now', '12', 'how', 'long', '12', 'two', 'years', '12', 'glad', 'you', 'smashed', 'her', 'watch', '12', 'so', 'you', 'still', 'think', 'you', 'might', 'want', 'that', 'fifth', 'date', '12', 'yeah', 'do', '12', 'but', 'joanie', 'loved', 'chachi', 'that', 'the', 'difference', '12', 'grab', 'spoon', '13', 'do', 'you', 'know', 'long', 'it', 'been', 'since', 'grabbed', 'spoon', '13', 'do', 'the', 'words', 'billy', 'don', 'be', 'hero', 'mean', 'anything', 'to', 'you', '13', 'you', 'know', 'here', 'the', 'thing', 'even', 'if', 'could', 'get', 'it', 'together', 'enough', '13', 'to', 'ask', 'woman', 'out', '13', 'who', 'am', 'going', 'to', 'ask', '13', 'isn', 'this', 'amazing', '13', 'have', 'never', 'made', 'coffee', 'before', 'in', 'my', 'life', '13', 'that', 'is', 'amazing', 'congratulations', '13', 'if', 'you', 'feel', 'like', 'you', 'got', 'ta', 'make', 'western', 'omelet', 'or', 'something', '13', 'although', 'actually', 'really', 'not', 'that', 'hungry', '13', 'good', 'morning', 'good', 'morning', '14', 'morning', 'morning', 'paul', '14', 'hello', 'paul', 'hi', 'paul', 'is', 'it', '14', 'last', 'night', 'was', 'like', '14', 'thank', 'you', 'so', 'much', '14', 'we', 'll', 'talk', 'later', '14', 'thank', 'you', '14', 'that', 'wasn', 'real', 'date', '14', 'what', 'the', 'hell', 'do', 'you', 'do', 'on', 'real', 'date', '14', 'shut', 'up', 'and', 'put', 'my', 'table', 'back', '14', 've', 'got', 'to', 'get', 'to', 'work', '14', 'if', 'don', 'input', 'those', 'numbers', 'it', 'doesn', 'make', 'much', 'of', 'difference', '14', 'so', 'like', 'you', 'guys', 'all', 'have', 'jobs', '14', 'yeah', 'we', 'all', 'have', 'jobs', '14', 'that', 'how', 'we', 'buy', 'stuff', '14', 'yeah', 'an', 'actor', '15', 'have', 'seen', 'you', 'in', 'anything', '15', 'doubt', 'it', 'mostly', 'regional', 'work', '15', 'unless', 'you', 'happen', 'to', 'catch', 'the', 'wee', 'one', 'production', 'of', 'pinocchio', '15', 'look', 'geppeto', 'real', 'live', 'boy', '15', 'will', 'not', 'take', 'this', 'abuse', '15', 'you', 're', 'right', 'sorry', '15', 'once', 'was', 'wooden', 'boy', 'little', 'wooden', 'boy', '15', 'how', 'are', 'you', 'doing', 'today', 'you', 'sleep', 'okay', '15', 'did', 'you', 'talk', 'to', 'barry', 'can', 'stop', 'smiling', '15', 'see', 'that', 'you', 'look', 'like', 'you', 'slept', 'with', 'hanger', 'in', 'your', 'mouth', '15', 'know', 'he', 'just', 'so', '15', 'remember', 'you', 'and', 'tony', 'de', 'marco', '15', 'well', 'it', 'like', 'that', 'with', 'feelings', '15', 'are', 'you', 'in', 'trouble', '15', 'going', 'to', 'get', 'up', 'go', 'to', 'work', 'and', 'not', 'think', 'about', 'him', 'all', 'day', '15', 'or', 'else', 'just', 'going', 'to', 'get', 'up', 'and', 'go', 'to', 'work', '16', 'wish', 'me', 'luck', 'what', 'for', '16', 'gon', 'na', 'go', 'get', 'one', 'of', 'those', 'job', 'things', '16', 'hey', 'monica', 'hey', 'franny', 'welcome', 'back', '16', 'how', 'was', 'florida', '16', 'you', 'had', 'sex', 'didn', 'you', '16', 'how', 'do', 'you', 'do', 'that', '16', 'so', 'who', '16', 'you', 'know', 'paul', '16', 'paul', 'the', 'wine', 'guy', '16', 'yeah', 'know', 'paul', '16', 'you', 'mean', 'you', 'know', 'paul', 'like', 'know', 'paul', '16', 'are', 'you', 'kidding', 'take', 'credit', 'for', 'paul', '16', 'before', 'me', 'there', 'was', 'no', 'snap', 'in', 'his', 'turtle', 'for', 'two', 'years', '16', 'of', 'course', 'it', 'was', 'line', '16', 'why', 'why', 'would', 'anybody', 'do', 'something', 'like', 'that', '16', 'we', 're', 'looking', 'for', 'an', 'answer', 'more', 'sophisticated', 'than', '16', 'to', 'get', 'you', 'into', 'bed', '16', 'is', 'it', 'me', '17', 'is', 'it', 'like', 'have', 'some', 'sort', 'of', 'beacon', 'that', 'only', 'dogs', '17', 'and', 'men', 'with', 'emotional', 'problems', 'can', 'hear', '17', 'come', 'here', 'give', 'me', 'your', 'feet', '17', 'just', 'thought', 'he', 'was', 'nice', 'you', 'know', '17', 'can', 'believe', 'you', 'didn', 'know', 'it', 'was', 'line', '17', 'guess', 'what', '17', 'you', 'got', 'job', 'are', 'you', 'kidding', '17', 'trained', 'for', 'nothing', '17', 'was', 'laughed', 'out', 'of', '12', 'interviews', '17', 'you', 're', 'surprisingly', 'upbeat', '17', 'you', 'would', 'be', 'too', 'if', 'you', 'found', 'joan', 'and', 'david', 'boots', 'on', 'sale', '17', '50', 'percent', 'off', '17', 'how', 'well', 'you', 'know', 'me', '17', 'they', 're', 'my', 'don', 'need', 'job', 'or', 'my', 'parents', '17', 've', 'got', 'great', 'boots', 'boots', '17', 'how', 'did', 'you', 'pay', 'for', 'them', 'credit', 'card', '17', 'and', 'who', 'pays', 'for', 'that', '17', 'my', 'father', '18', 'you', 'can', 'live', 'off', 'your', 'parents', '18', 'know', 'that', 'that', 'why', 'was', 'getting', 'married', '18', 'give', 'her', 'break', 'it', 'hard', 'being', 'on', 'your', 'own', 'for', 'the', 'first', 'time', '18', 'thank', 'you', 'you', 're', 'welcome', '18', 'when', 'first', 'came', 'to', 'this', 'city', 'was', '1', '4', '18', 'my', 'mom', 'had', 'killed', 'herself', 'and', 'my', 'stepdad', 'was', 'in', 'prison', '18', 'and', 'got', 'here', 'and', 'didn', 'know', 'anybody', '18', 'ended', 'up', 'living', 'with', 'this', 'albino', 'guy', 'who', 'was', 'cleaning', 'windshields', '18', 'and', 'then', 'he', 'killed', 'himself', '18', 'then', 'found', 'aromatherapy', 'believe', 'me', 'know', 'exactly', 'how', 'you', 'feel', '18', 'the', 'word', 'you', 're', 'looking', 'for', 'is', '18', 'anyway', '18', 'you', 'ready', '18', 'don', 'think', 'so', '18', 'cut', 'cut', 'cut', '18', 'welcome', 'to', 'the', 'real', 'world', '18', 'it', 'sucks', 'you', 're', 'gon', 'na', 'love', 'it', '19', 'that', 'it', '19', 'you', 'gon', 'na', 'crash', 'on', 'the', 'couch', '19', 'no', 'got', 'ta', 'go', 'home', 'sometime', 'are', 'you', 'gon', 'na', 'be', 'okay', '19', 'look', 'what', 'just', 'found', 'on', 'the', 'floor', '19', 'what', '19', 'that', 'paul', 'watch', '19', 'you', 'can', 'just', 'put', 'it', 'back', 'where', 'you', 'found', 'it', '19', 'oh', 'boy', 'all', 'right', '19', 'good', 'night', 'everybody', 'good', 'night', '19', 'sorry', 'no', '19', 'no', 'have', 'it', 'really', 'split', 'it', '19', 'you', 'probably', 'didn', 'know', 'this', 'but', 'back', 'in', 'high', 'school', 'had', '19', 'major', 'crush', 'on', 'you', '19', 'knew', '19', 'you', 'did', '20', 'figured', 'you', 'thought', 'was', 'monica', 'geeky', 'older', 'brother', '20', 'did', '20', 'listen', 'do', 'you', 'think', '20', 'and', 'try', 'not', 'to', 'let', 'my', 'vulnerability', 'become', 'any', 'kind', 'of', 'factor', 'here', '20', 'do', 'you', 'think', 'it', 'would', 'be', 'okay', 'if', 'asked', 'you', 'out', 'sometime', 'maybe', '20', 'maybe', '20', 'okay', 'maybe', 'will', '20', 'good', 'night', 'good', 'night', '20', 'see', 'you', '20', 'wait', 'wait', '21', 'what', 'with', 'you', '21', 'just', 'grabbed', 'spoon', '21', 'can', 'believe', 'what', 'hearing', '21', 'can', 'believe', 'what', 'hearing', '21', 'what', 'said', 'you', 'had', 'what', 'said', 'you', 'had', '21', 'would', 'you', 'stop', '21', 'was', 'doing', 'it', 'again', '21', 'would', 'anybody', 'like', 'more', 'coffee', '21', 'did', 'you', 'make', 'it', '21', 'just', 'serving', 'it', 'll', 'have', 'cup', 'of', 'coffee', '21', 'kids', 'new', 'dream', '21', 'in', 'las', 'vegas', '21', 'liza', 'minnelli', '200', 'font', 'color', 'ffff00', 'size', '14', 'wwwtvsubtitlesnet', 'font']\n"
     ]
    }
   ],
   "source": [
    "# Tokenisasi for Document\n",
    "doc_tokens_trec = [word_tokenize(kalimat) for kalimat in new_df_without_null['Dialogue']]\n",
    "print(*doc_tokens_trec[0:1], sep = \"\\n\")"
   ]
  },
  {
   "cell_type": "code",
   "execution_count": 13,
   "metadata": {
    "colab": {
     "base_uri": "https://localhost:8080/"
    },
    "id": "R-YvkEWPwW-R",
    "outputId": "b1bbefbe-78c2-4bf1-819c-f8b5a75feb3b"
   },
   "outputs": [
    {
     "name": "stdout",
     "output_type": "stream",
     "text": [
      "[nltk_data] Downloading package stopwords to\n",
      "[nltk_data]     C:\\Users\\ASUS\\AppData\\Roaming\\nltk_data...\n",
      "[nltk_data]   Unzipping corpora\\stopwords.zip.\n"
     ]
    },
    {
     "data": {
      "text/plain": [
       "True"
      ]
     },
     "execution_count": 13,
     "metadata": {},
     "output_type": "execute_result"
    }
   ],
   "source": [
    "nltk.download('stopwords')"
   ]
  },
  {
   "cell_type": "code",
   "execution_count": 14,
   "metadata": {
    "id": "QkPax37ot0pw"
   },
   "outputs": [],
   "source": [
    "# Stopword for Document\n",
    "doc_stopwords_trec = [[token for token in kalimat if token not in stopwords.words('english')]\n",
    "                                  for kalimat in doc_tokens_trec]"
   ]
  },
  {
   "cell_type": "code",
   "execution_count": 15,
   "metadata": {
    "id": "PhfOlqvE9mrN"
   },
   "outputs": [],
   "source": [
    "def punctuation(txt):\n",
    "  result = re.sub(r'[^\\w\\s]','',txt)\n",
    "  return result\n",
    "df['Dialogue'] = df['Dialogue'].apply(punctuation)\n"
   ]
  },
  {
   "cell_type": "code",
   "execution_count": 16,
   "metadata": {
    "colab": {
     "base_uri": "https://localhost:8080/",
     "height": 123
    },
    "id": "JvaYW6RhvN5f",
    "outputId": "1cdb9e90-e46c-4129-c868-2db9cd391dd4"
   },
   "outputs": [
    {
     "data": {
      "text/plain": [
       "'1 150 ripped with subrip 117 and verified by cdint cdint hotmailcom  i deliver perfection and don t brag about it d  hey eddie   what are you doing here  watching you sleep  why  it makes me feel peaceful  please  i can t sleep now  you want me to sing  that s it i want you out of the apartment now  what are you talking about  hannibal lecter  better roommate than you  i don t think you re being fair one night you see me and you get scared  what about the other nights when you don t see me  last night you went and got some water  and i was nice enough to hide behind the door  i didn t realize that  get out now  you really want me out  yes please  then i want to hear you say you want me out  i want you out  i want to hear it from your lips  where d you hear it before  all right you know what consider me gone  i ll be out by the time you get home from work tomorrow  y i  thank you  i heard that  the one where eddie won t go  english subtitles by gelula co inc  well look at you  finally got that time machine working huh  you like it  this guy was selling them on 8th avenue and i thought   you know what i don t have  a mirror  fine make fun i think it s jaunty  for a guy who s recently lost his job you re in a good mood  i ll be all right i m not starting from square one  i was dr drake ramoray on days of our lives   that s got to have some kind of cachet  cachet jaunty  chandler gave me wordoftheday toilet paper  i m gonna get some coffee  so did you read the book  oh my god it was incredible  didn t it like totally speak to you  what book is this  you have to read this book it s called be your own wind keeper   it s about how women need to become more empowered  but there s wind  and the wind can make us goddesses  do you know who takes our wind men they just take it  men just take our wind  all the time because they are the lightningbearers  that sounds kind of cool it s like the hobbit   it is nothing like the hobbit   it s like reading about every relationship i ve ever had  except for richard  richard would never steal your wind  because he s yummy  but all the others  and the part about how they re always drinking  from our pool of inner power  but god forbid we should take a sip  anybody want a cruller  this is a typical lightningbearer thing  it s like   hello who wants one of my phallicshaped mancakes  don t worry about it already things happen  you re not mad at me for getting fired and everything  look at me  look at me  do i have lipstick on my teeth  can we get back to me  look honey people get fired left and right in this business  i already got you an audition for another world   all right  cab driver number 2  you re welcome  but i was dr drake ramoray  how can i go from being a neurosurgeon to driving a cab  things change roll with them  but this is a twoline part  it s like taking a step backwards  i m not gonna do this  i m gonna tell you the same thing i told al minza  and his pyramid of dogs  take any job you can get and don t make on the floor  i m sorry  i ll see you  god  oh god i mean it s just so  isn t it  this is like reading about my own life  this book could have been called be your own wind keeper rachel   it wouldn t have sold a million copies  but it would ve made a nice gift for you  sweetie we ve got to go  no why do we always have to do everything according to your timetable  actually it s the movie theater that has the timetable  it s so you don t miss the beginning  this isn t about the movie theater this is about you stealing my wind  you go girl  i can t pull that off can i  excuse me your wind  yes my wind  how do you expect me to grow if you won t let me blow  you know i don t  have a problem with that i just really need to be with myself right now i m sorry you re right i don t have to apologize sorry damn it  what is it  i don t know it s got all this stuff about wind and trees and some sacred pool i don t really get it but she s pretty upset about it this is why i don t date women who read what s that it s my vis a bill envelope one of two  that can t be good  open it open it oh my god look at this how did i spend so much money that s just the minimum amount that s your total thirtyfive hundred dollars at porcelain safari my animals the guy said they suited me he spoke with an accent i was confused i don t know what to do you can start by driving a cab on another world   what  that audition that s a twoline part joey you owe 1100 at i love lucite   so what  so suck it up man it s a job it s money i don t need you getting judgmental and condescending and pedantic toilet paper i m not being any of those things i m being realistic you re supposed to be my friend i am your friend then tell me things like you ll be fine and something big s gonna come along i know it but i don t know it what i do know is you owe 2300 at isn t it chromantic i m aware of what i owe then get some sense it took you 10 years to get that job  how long till you get another  i don t want to hear this i m just saying well don t just say  maybe i should just go i ll see you later just think about it i don t need to think about it i was dr drake ramoray that was huge big things are gonna happen you ll see ross you still there what are you still doing here just some basic dehydrating of fruits and vegetables man alive this thing s fantastic aren t you forgetting anything oh yeah i got us a new goldfish he s feistier than the last one maybe because the last one was made by pepperidge farm eddie isn t there something you re supposed to be doing now not unless it s got something to do with dehydrating because right now i m a dehydrating maniac i thought we had a deal i thought by the time i got you know what that is your last roommate s kidney that s a tomato this one definitely goes in the display hey gunther let me get a lemonade to go lemonade you okay man it s career stuff they killed off my character on the show that s too bad how d they do it i fell down an elevator shaft that sucks i was buried in an avalanche what i used to be brice on all my children  why must everybody watch me sleep there ll be no more watching me sleep no more watching i got some great stuff to dehydrate grapes apricots i thought it d be cool to see what happens with these water balloons get out get out get out get out  what  you move out take your fruit your stupid small fruit and get out you want me to move out i gotta tell you that s kind of out of the blue don t you think this is not out of the blue this is smackdab in the middle of the blue relax take it easy buddy you don t have to tell me twice someone will be by for my stuff if you think i m leaving you alone with my fish you re insane you want some help no help required chico  all the way to the airport huh you know that s over 30 miles that s gonna cost you about so bucks excuse me that s fifty bucks fiveo dollars you know what it is it s smudgy because they re fax pages when i was on days of our lives as dr drake ramoray they d send over the whole script on real paper that s great if you wanted to expand this scene like have the cab crash i could attend to the victims because i have a background in medical acting okay listen thanks for coming in don t thank me for coming in at least let me finish we could take the expressway but this time of day you re better off taking the budge you were going for bridge there weren t you i ll have a good day question number 28 have you ever allowed a lightningbearer to take your wind i would have to say no and i would have to say what do you not remember the puppet guy you totally let him wash his feet in the pool of your inner power and his puppet too well at least i didn t let some guy into the forest of my righteous truth on the first date  who  paul moving on moving on next question okay number 29 have you ever betrayed another goddess for a lightningbearer okay number 30 whoa whoa whoa let s go back to 29 not to my recollection danny arshack ninth grade you know the bottle was pointing at me only because you took up half the circle listen to you two it s so sad looks like i ll be going to the goddess meetings alone not when they find out you slept with jason hurley an hour after he broke up with monica one hour you are such a leaf blower be careful with that 3d last supper  judas is a little loose oh my god what s going on they re taking all my stuff back i guess you were right no i wasn t right that s what i came here to tell you i was totally hung up on my own stuff the other day no listen i need the whole security thing you know to know where my next paycheck is coming from but you don t need that and that s amazing to me i could never do what you do  thanks  you hold out for something bigger i can t tell you how much respect i have for you not going to that stupid audition  i went  great how did it go  i didn t get it  good for you you re living the dream all right then not my parrot i can t watch this hey hold on hold on how much for the how much to save the bird  twelve hundred  dollars you spent 1200 on a plastic bird it was an impulse buy near the register go ahead with the bird do you have anything for around 200 the dog i ll take it my gift to you man thanks ross i really liked that bird though but the dog here are your cakes we didn t order cake no i know they re from me you guys this is not good we have enough trouble with guys stealing our wind without taking it from each other you re right i love you goddesses i don t ever want to suck your wind again  thank you so are we good  we re good we re good let me take these back they ll take it out of my paycheck dingdong the psycho s gone are you sure this time i actually saw him leave that guy is holding a human head he s holding a human head check it out man i tore it off a mannequin in the alley behind macy s there s no alley behind macy s so i got it in the junior miss department big diff it ll make a hell of a conversation piece at our next cocktail party our next cocktail party we ll put chips in it we ll make it a chip chick do you remember yesterday yes i think i vaguely recall it do you remember talking to me yesterday so what happened we took a road trip to las vegas oh sweet moses so on this road trip did you win any money i crapped out but mr 21 here he cleans up 300 he buys me these new shoes nice see you upstairs see you pals is anyone else starting to really like him may i help you why doesn t my key work and what s my stuff doing downstairs i m sorry have we met it s eddie you freak your roommate i m sorry i already have a roommate he s lived here for years i don t know what you re talking about no he moved out and i moved in well i think we d remember something like that i know i would that s a good point okay wow i guess i got the wrong apartment  i m terribly sorry  hey no problem see you goodbye you fruitdrying psychopath  you want me to help you unpack  nah i m okay just so you know i m not moving back in because i have to i mean i do have to but it s just that that place it wasn t really i mean this is welcome home man  a little foos  absolutely what happened to the foosball it s a cantaloupe are we gonna bring this out every time ross comes over he paid a lot of money for it i m gonna hold him a different way if you hated it so much why d you buy it in the first place well i had a whole ceramic zoo thing going over there but without the other ones it looks tacky is he housetrained or will he leave little bathroom tiles all over stay stay good fake dog'"
      ]
     },
     "execution_count": 16,
     "metadata": {},
     "output_type": "execute_result"
    }
   ],
   "source": [
    "df['Dialogue'][60]"
   ]
  },
  {
   "cell_type": "markdown",
   "metadata": {
    "id": "kUtBX2y-FquJ"
   },
   "source": [
    "##### BM25"
   ]
  },
  {
   "cell_type": "code",
   "execution_count": 17,
   "metadata": {
    "id": "gZ_PsQHzTMtj"
   },
   "outputs": [],
   "source": [
    "class BM25:\n",
    "    def __init__(self, k1=1.2, b=0.75):\n",
    "        self.b = b\n",
    "        self.k1 = k1\n",
    "\n",
    "    def fit(self, corpus):\n",
    "        \"\"\"\n",
    "        Fit the various statistics that are required to calculate BM25 ranking\n",
    "        score using the corpus given.\n",
    "\n",
    "        Parameters\n",
    "        ----------\n",
    "        corpus : list[list[str]]\n",
    "            Each element in the list represents a document, and each document\n",
    "            is a list of the terms.\n",
    "\n",
    "        Returns\n",
    "        -------\n",
    "        self\n",
    "        \"\"\"\n",
    "        tf = []\n",
    "        df = {}\n",
    "        idf = {}\n",
    "        doc_len = []\n",
    "        corpus_size = 0\n",
    "        for document in corpus:\n",
    "            corpus_size += 1\n",
    "            doc_len.append(len(document))\n",
    "\n",
    "            # compute tf (term frequency) per document\n",
    "            frequencies = {}\n",
    "            for term in document:\n",
    "                term_count = frequencies.get(term, 0) + 1\n",
    "                frequencies[term] = term_count\n",
    "\n",
    "            tf.append(frequencies)\n",
    "\n",
    "            # compute df (document frequency) per term\n",
    "            for term, _ in frequencies.items():\n",
    "                df_count = df.get(term, 0) + 1\n",
    "                df[term] = df_count\n",
    "\n",
    "        for term, freq in df.items():\n",
    "            idf[term] = math.log(1 + (corpus_size - freq + 0.5) / (freq + 0.5))\n",
    "\n",
    "        self.tf_ = tf\n",
    "        self.df_ = df\n",
    "        self.idf_ = idf\n",
    "        self.doc_len_ = doc_len\n",
    "        self.corpus_ = corpus\n",
    "        self.corpus_size_ = corpus_size\n",
    "        self.avg_doc_len_ = sum(doc_len) / corpus_size\n",
    "        return self\n",
    "\n",
    "    def search(self, query):\n",
    "        scores = [self._score(query, index) for index in range(self.corpus_size_)]\n",
    "        return scores\n",
    "\n",
    "    def _score(self, query, index):\n",
    "        score = 0.0\n",
    "\n",
    "        doc_len = self.doc_len_[index]\n",
    "        frequencies = self.tf_[index]\n",
    "        for term in query:\n",
    "            if term not in frequencies:\n",
    "                continue\n",
    "\n",
    "            freq = frequencies[term]\n",
    "            numerator = self.idf_[term] * freq * (self.k1 + 1)\n",
    "            denominator = freq + self.k1 * (1 - self.b + self.b * doc_len / self.avg_doc_len_)\n",
    "            score += (numerator / denominator)\n",
    "\n",
    "        return score"
   ]
  },
  {
   "cell_type": "code",
   "execution_count": 18,
   "metadata": {
    "id": "KVhDRpvbxoi5"
   },
   "outputs": [],
   "source": [
    "import math\n",
    "import json\n",
    "import requests"
   ]
  },
  {
   "cell_type": "code",
   "execution_count": 19,
   "metadata": {
    "id": "LT-5z0vZvKSp"
   },
   "outputs": [],
   "source": [
    "# query = \"i think i remember you from yesterday\"\n",
    "# stopwords = set(['for', 'a', 'of', 'the', 'and', 'to', 'in'])\n",
    "# query = [word for word in query.lower().split() if word not in stopwords]\n",
    "\n",
    "# bm25 = BM25()\n",
    "# bm25.fit(doc_stopwords_trec)\n",
    "# scores = bm25.search(query)\n",
    "\n",
    "# for score, doc in zip(scores, df['Dialogue']):\n",
    "#     score = round(score, 3)\n",
    "#     print(str(score) + '\\t' + doc)"
   ]
  },
  {
   "cell_type": "code",
   "execution_count": 20,
   "metadata": {
    "id": "DnUf0FwXBJaU"
   },
   "outputs": [],
   "source": [
    "query = \"i think i remember you from yesterday\"\n",
    "stopwords = set(['for', 'a', 'of', 'the', 'and', 'to', 'in'])\n",
    "query = [word for word in query.lower().split() if word not in stopwords]\n",
    "\n",
    "bm25 = BM25()\n",
    "bm25.fit(doc_stopwords_trec)\n",
    "scores = bm25.search(query)\n",
    "data1 = []\n",
    "data2 =[]\n",
    "for score, doc in zip(scores, df['Dialogue']):\n",
    "    score = round(score, 3)\n",
    "    data1.append(str(score))\n",
    "    data2.append(doc)"
   ]
  },
  {
   "cell_type": "code",
   "execution_count": 21,
   "metadata": {
    "id": "9bZUUEDgCTzd"
   },
   "outputs": [],
   "source": [
    "data4 = pd.DataFrame({'Score':data1,'Doc':data2})"
   ]
  },
  {
   "cell_type": "code",
   "execution_count": 22,
   "metadata": {
    "colab": {
     "base_uri": "https://localhost:8080/",
     "height": 206
    },
    "id": "1T5yEp_1DQJy",
    "outputId": "d2af5b5a-4744-406d-b1e4-ac18b739a840",
    "scrolled": false
   },
   "outputs": [
    {
     "data": {
      "text/html": [
       "<div>\n",
       "<style scoped>\n",
       "    .dataframe tbody tr th:only-of-type {\n",
       "        vertical-align: middle;\n",
       "    }\n",
       "\n",
       "    .dataframe tbody tr th {\n",
       "        vertical-align: top;\n",
       "    }\n",
       "\n",
       "    .dataframe thead th {\n",
       "        text-align: right;\n",
       "    }\n",
       "</style>\n",
       "<table border=\"1\" class=\"dataframe\">\n",
       "  <thead>\n",
       "    <tr style=\"text-align: right;\">\n",
       "      <th></th>\n",
       "      <th>Score</th>\n",
       "      <th>Doc</th>\n",
       "    </tr>\n",
       "  </thead>\n",
       "  <tbody>\n",
       "    <tr>\n",
       "      <th>6</th>\n",
       "      <td>1.806</td>\n",
       "      <td>hey gorgeous how s it going dehydrated japanes...</td>\n",
       "    </tr>\n",
       "    <tr>\n",
       "      <th>7</th>\n",
       "      <td>1.806</td>\n",
       "      <td>hey gorgeous how s it going dehydrated japanes...</td>\n",
       "    </tr>\n",
       "    <tr>\n",
       "      <th>1</th>\n",
       "      <td>0.688</td>\n",
       "      <td>you guys don t understand for us kissing is as...</td>\n",
       "    </tr>\n",
       "    <tr>\n",
       "      <th>3</th>\n",
       "      <td>0.635</td>\n",
       "      <td>all right phoebe if i were omnipotent for a da...</td>\n",
       "    </tr>\n",
       "    <tr>\n",
       "      <th>5</th>\n",
       "      <td>0.543</td>\n",
       "      <td>oh look there s joey s picture this is so exci...</td>\n",
       "    </tr>\n",
       "    <tr>\n",
       "      <th>0</th>\n",
       "      <td>0.533</td>\n",
       "      <td>there s nothing to tell it s just some guy i w...</td>\n",
       "    </tr>\n",
       "    <tr>\n",
       "      <th>2</th>\n",
       "      <td>0.523</td>\n",
       "      <td>hi guys hey pheebs oh oh how d it go um not so...</td>\n",
       "    </tr>\n",
       "    <tr>\n",
       "      <th>8</th>\n",
       "      <td>0.402</td>\n",
       "      <td>terry i know i haven t worked here long     bu...</td>\n",
       "    </tr>\n",
       "    <tr>\n",
       "      <th>9</th>\n",
       "      <td>0.389</td>\n",
       "      <td>guys there s somebody i d like you to meet wai...</td>\n",
       "    </tr>\n",
       "    <tr>\n",
       "      <th>4</th>\n",
       "      <td>0.007</td>\n",
       "      <td>let it go it s not a big deal not a big deal i...</td>\n",
       "    </tr>\n",
       "  </tbody>\n",
       "</table>\n",
       "</div>"
      ],
      "text/plain": [
       "   Score                                                Doc\n",
       "6  1.806  hey gorgeous how s it going dehydrated japanes...\n",
       "7  1.806  hey gorgeous how s it going dehydrated japanes...\n",
       "1  0.688  you guys don t understand for us kissing is as...\n",
       "3  0.635  all right phoebe if i were omnipotent for a da...\n",
       "5  0.543  oh look there s joey s picture this is so exci...\n",
       "0  0.533  there s nothing to tell it s just some guy i w...\n",
       "2  0.523  hi guys hey pheebs oh oh how d it go um not so...\n",
       "8  0.402  terry i know i haven t worked here long     bu...\n",
       "9  0.389  guys there s somebody i d like you to meet wai...\n",
       "4  0.007  let it go it s not a big deal not a big deal i..."
      ]
     },
     "execution_count": 22,
     "metadata": {},
     "output_type": "execute_result"
    }
   ],
   "source": [
    "data4.head(10).sort_values('Score', ascending=False)"
   ]
  },
  {
   "cell_type": "markdown",
   "metadata": {
    "id": "kUtBX2y-FquJ"
   },
   "source": [
    "##### BM11"
   ]
  },
  {
   "cell_type": "code",
   "execution_count": 23,
   "metadata": {},
   "outputs": [],
   "source": [
    "class BM11:\n",
    "    def __init__(self, k1=1.5, b=1):\n",
    "        self.b = b\n",
    "        self.k1 = k1\n",
    "\n",
    "    def fit(self, corpus):\n",
    "        \"\"\"\n",
    "        Fit the various statistics that are required to calculate BM11 ranking\n",
    "        score using the corpus given.\n",
    "\n",
    "        Parameters\n",
    "        ----------\n",
    "        corpus : list[list[str]]\n",
    "            Each element in the list represents a document, and each document\n",
    "            is a list of the terms.\n",
    "\n",
    "        Returns\n",
    "        -------\n",
    "        self\n",
    "        \"\"\"\n",
    "        tf = []\n",
    "        df = {}\n",
    "        idf = {}\n",
    "        doc_len = []\n",
    "        corpus_size = 0\n",
    "        for document in corpus:\n",
    "            corpus_size += 1\n",
    "            doc_len.append(len(document))\n",
    "\n",
    "            # compute tf (term frequency) per document\n",
    "            frequencies = {}\n",
    "            for term in document:\n",
    "                term_count = frequencies.get(term, 0) + 1\n",
    "                frequencies[term] = term_count\n",
    "\n",
    "            tf.append(frequencies)\n",
    "\n",
    "            # compute df (document frequency) per term\n",
    "            for term, _ in frequencies.items():\n",
    "                df_count = df.get(term, 0) + 1\n",
    "                df[term] = df_count\n",
    "\n",
    "        for term, freq in df.items():\n",
    "            idf[term] = math.log(1 + (corpus_size - freq + 0.5) / (freq + 0.5))\n",
    "\n",
    "        self.tf_ = tf\n",
    "        self.df_ = df\n",
    "        self.idf_ = idf\n",
    "        self.doc_len_ = doc_len\n",
    "        self.corpus_ = corpus\n",
    "        self.corpus_size_ = corpus_size\n",
    "        self.avg_doc_len_ = sum(doc_len) / corpus_size\n",
    "        return self\n",
    "\n",
    "    def search(self, query):\n",
    "        scores = [self._score(query, index) for index in range(self.corpus_size_)]\n",
    "        return scores\n",
    "\n",
    "    def _score(self, query, index):\n",
    "        score = 0.0\n",
    "\n",
    "        doc_len = self.doc_len_[index]\n",
    "        frequencies = self.tf_[index]\n",
    "        for term in query:\n",
    "            if term not in frequencies:\n",
    "                continue\n",
    "\n",
    "            freq = frequencies[term]\n",
    "            numerator = self.idf_[term] * freq * (self.k1 + 1)\n",
    "            denominator = freq + self.k1 * (1 - self.b + self.b * doc_len / self.avg_doc_len_)\n",
    "            score += (numerator / denominator)\n",
    "\n",
    "        return score"
   ]
  },
  {
   "cell_type": "code",
   "execution_count": 24,
   "metadata": {},
   "outputs": [],
   "source": [
    "import math\n",
    "import json\n",
    "import requests"
   ]
  },
  {
   "cell_type": "code",
   "execution_count": 25,
   "metadata": {},
   "outputs": [],
   "source": [
    "query = \"i think i remember you from yesterday\"\n",
    "stopwords = set(['for', 'a', 'of', 'the', 'and', 'to', 'in'])\n",
    "query = [word for word in query.lower().split() if word not in stopwords]\n",
    "\n",
    "bm11 = BM11()\n",
    "bm11.fit(doc_stopwords_trec)\n",
    "scores = bm11.search(query)\n",
    "data1 = []\n",
    "data2 =[]\n",
    "for score, doc in zip(scores, df['Dialogue']):\n",
    "    score = round(score, 3)\n",
    "    data1.append(str(score))\n",
    "    data2.append(doc)"
   ]
  },
  {
   "cell_type": "code",
   "execution_count": 26,
   "metadata": {},
   "outputs": [],
   "source": [
    "data5 = pd.DataFrame({'Score':data1,'Doc':data2})"
   ]
  },
  {
   "cell_type": "code",
   "execution_count": 27,
   "metadata": {
    "scrolled": true
   },
   "outputs": [
    {
     "data": {
      "text/html": [
       "<div>\n",
       "<style scoped>\n",
       "    .dataframe tbody tr th:only-of-type {\n",
       "        vertical-align: middle;\n",
       "    }\n",
       "\n",
       "    .dataframe tbody tr th {\n",
       "        vertical-align: top;\n",
       "    }\n",
       "\n",
       "    .dataframe thead th {\n",
       "        text-align: right;\n",
       "    }\n",
       "</style>\n",
       "<table border=\"1\" class=\"dataframe\">\n",
       "  <thead>\n",
       "    <tr style=\"text-align: right;\">\n",
       "      <th></th>\n",
       "      <th>Score</th>\n",
       "      <th>Doc</th>\n",
       "    </tr>\n",
       "  </thead>\n",
       "  <tbody>\n",
       "    <tr>\n",
       "      <th>0</th>\n",
       "      <td>0.559</td>\n",
       "      <td>there s nothing to tell it s just some guy i w...</td>\n",
       "    </tr>\n",
       "    <tr>\n",
       "      <th>1</th>\n",
       "      <td>0.755</td>\n",
       "      <td>you guys don t understand for us kissing is as...</td>\n",
       "    </tr>\n",
       "    <tr>\n",
       "      <th>2</th>\n",
       "      <td>0.544</td>\n",
       "      <td>hi guys hey pheebs oh oh how d it go um not so...</td>\n",
       "    </tr>\n",
       "    <tr>\n",
       "      <th>3</th>\n",
       "      <td>0.678</td>\n",
       "      <td>all right phoebe if i were omnipotent for a da...</td>\n",
       "    </tr>\n",
       "    <tr>\n",
       "      <th>4</th>\n",
       "      <td>0.007</td>\n",
       "      <td>let it go it s not a big deal not a big deal i...</td>\n",
       "    </tr>\n",
       "    <tr>\n",
       "      <th>5</th>\n",
       "      <td>0.575</td>\n",
       "      <td>oh look there s joey s picture this is so exci...</td>\n",
       "    </tr>\n",
       "    <tr>\n",
       "      <th>6</th>\n",
       "      <td>1.873</td>\n",
       "      <td>hey gorgeous how s it going dehydrated japanes...</td>\n",
       "    </tr>\n",
       "    <tr>\n",
       "      <th>7</th>\n",
       "      <td>1.873</td>\n",
       "      <td>hey gorgeous how s it going dehydrated japanes...</td>\n",
       "    </tr>\n",
       "    <tr>\n",
       "      <th>8</th>\n",
       "      <td>0.412</td>\n",
       "      <td>terry i know i haven t worked here long     bu...</td>\n",
       "    </tr>\n",
       "    <tr>\n",
       "      <th>9</th>\n",
       "      <td>0.392</td>\n",
       "      <td>guys there s somebody i d like you to meet wai...</td>\n",
       "    </tr>\n",
       "  </tbody>\n",
       "</table>\n",
       "</div>"
      ],
      "text/plain": [
       "   Score                                                Doc\n",
       "0  0.559  there s nothing to tell it s just some guy i w...\n",
       "1  0.755  you guys don t understand for us kissing is as...\n",
       "2  0.544  hi guys hey pheebs oh oh how d it go um not so...\n",
       "3  0.678  all right phoebe if i were omnipotent for a da...\n",
       "4  0.007  let it go it s not a big deal not a big deal i...\n",
       "5  0.575  oh look there s joey s picture this is so exci...\n",
       "6  1.873  hey gorgeous how s it going dehydrated japanes...\n",
       "7  1.873  hey gorgeous how s it going dehydrated japanes...\n",
       "8  0.412  terry i know i haven t worked here long     bu...\n",
       "9  0.392  guys there s somebody i d like you to meet wai..."
      ]
     },
     "execution_count": 27,
     "metadata": {},
     "output_type": "execute_result"
    }
   ],
   "source": [
    "data5.head(10)"
   ]
  },
  {
   "cell_type": "markdown",
   "metadata": {},
   "source": [
    "##### BM11 VS BM25 Q1"
   ]
  },
  {
   "cell_type": "code",
   "execution_count": 28,
   "metadata": {},
   "outputs": [],
   "source": [
    "df = pd.DataFrame(data4,columns=['Score','Doc'])"
   ]
  },
  {
   "cell_type": "code",
   "execution_count": 29,
   "metadata": {},
   "outputs": [],
   "source": [
    "data5['score2'] = data4['Score']"
   ]
  },
  {
   "cell_type": "code",
   "execution_count": 30,
   "metadata": {},
   "outputs": [],
   "source": [
    "new_df = data5.head(20)"
   ]
  },
  {
   "cell_type": "code",
   "execution_count": 31,
   "metadata": {},
   "outputs": [
    {
     "name": "stderr",
     "output_type": "stream",
     "text": [
      "<ipython-input-31-0cc27fc5d3c9>:7: SettingWithCopyWarning: \n",
      "A value is trying to be set on a copy of a slice from a DataFrame.\n",
      "Try using .loc[row_indexer,col_indexer] = value instead\n",
      "\n",
      "See the caveats in the documentation: https://pandas.pydata.org/pandas-docs/stable/user_guide/indexing.html#returning-a-view-versus-a-copy\n",
      "  new_df['doc_no'] = listbaru\n"
     ]
    }
   ],
   "source": [
    "listbaru = []\n",
    "j = 1\n",
    "for i in new_df['Doc']:\n",
    "    listbaru.append(j)\n",
    "    j+=1\n",
    "\n",
    "new_df['doc_no'] = listbaru"
   ]
  },
  {
   "cell_type": "code",
   "execution_count": 32,
   "metadata": {},
   "outputs": [
    {
     "name": "stderr",
     "output_type": "stream",
     "text": [
      "<ipython-input-32-2b6b1e9ad63a>:1: SettingWithCopyWarning: \n",
      "A value is trying to be set on a copy of a slice from a DataFrame.\n",
      "Try using .loc[row_indexer,col_indexer] = value instead\n",
      "\n",
      "See the caveats in the documentation: https://pandas.pydata.org/pandas-docs/stable/user_guide/indexing.html#returning-a-view-versus-a-copy\n",
      "  new_df['Score'] = new_df['Score'].astype(float)\n",
      "<ipython-input-32-2b6b1e9ad63a>:2: SettingWithCopyWarning: \n",
      "A value is trying to be set on a copy of a slice from a DataFrame.\n",
      "Try using .loc[row_indexer,col_indexer] = value instead\n",
      "\n",
      "See the caveats in the documentation: https://pandas.pydata.org/pandas-docs/stable/user_guide/indexing.html#returning-a-view-versus-a-copy\n",
      "  new_df['score2'] = new_df['score2'].astype(float)\n"
     ]
    }
   ],
   "source": [
    "new_df['Score'] = new_df['Score'].astype(float)\n",
    "new_df['score2'] = new_df['score2'].astype(float)"
   ]
  },
  {
   "cell_type": "code",
   "execution_count": 33,
   "metadata": {},
   "outputs": [
    {
     "data": {
      "image/png": "[encoded data removed]",
      "text/plain": [
       "<Figure size 648x504 with 1 Axes>"
      ]
     },
     "metadata": {
      "needs_background": "light"
     },
     "output_type": "display_data"
    }
   ],
   "source": [
    "import matplotlib.pyplot as plt\n",
    "fig, ax = plt.subplots(figsize=[9, 7])\n",
    "plt.plot(new_df['doc_no'], new_df['Score'], color='r', label='BM11', linestyle = 'dashed')\n",
    "plt.plot(new_df['doc_no'], new_df['score2'], color='g', label='BM25')\n",
    "plt.xlabel(\"doc_no\")\n",
    "plt.ylabel(\"Score\")\n",
    "plt.title(\"Score for Doc Dataset Friends\")\n",
    "plt.legend()\n",
    "plt.show()"
   ]
  }
 ],
 "metadata": {
  "accelerator": "GPU",
  "colab": {
   "collapsed_sections": [],
   "name": "Proyek Dataset Friends",
   "provenance": []
  },
  "kernelspec": {
   "display_name": "Python 3",
   "language": "python",
   "name": "python3"
  },
  "language_info": {
   "codemirror_mode": {
    "name": "ipython",
    "version": 3
   },
   "file_extension": ".py",
   "mimetype": "text/x-python",
   "name": "python",
   "nbconvert_exporter": "python",
   "pygments_lexer": "ipython3",
   "version": "3.8.3"
  }
 },
 "nbformat": 4,
 "nbformat_minor": 1
}
